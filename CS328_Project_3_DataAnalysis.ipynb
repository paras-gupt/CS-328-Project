{
  "nbformat": 4,
  "nbformat_minor": 0,
  "metadata": {
    "colab": {
      "name": "CS328_Project_3_DataAnalysis",
      "provenance": []
    },
    "kernelspec": {
      "name": "python3",
      "display_name": "Python 3"
    },
    "language_info": {
      "name": "python"
    }
  },
  "cells": [
    {
      "cell_type": "code",
      "execution_count": null,
      "metadata": {
        "id": "HwjNe7ImXHSh"
      },
      "outputs": [],
      "source": [
        "import numpy as np\n",
        "import pandas as pd\n",
        "import matplotlib.pylab as plt\n",
        "%matplotlib inline\n",
        "import plotly.express as px\n",
        "import statistics\n",
        "import math"
      ]
    },
    {
      "cell_type": "code",
      "source": [
        "from google.colab import drive\n",
        "drive.mount('/content/drive')"
      ],
      "metadata": {
        "colab": {
          "base_uri": "https://localhost:8080/"
        },
        "id": "4R3hLUU9XKBm",
        "outputId": "67427af3-d773-48ef-9ff1-435d3996a338"
      },
      "execution_count": null,
      "outputs": [
        {
          "output_type": "stream",
          "name": "stdout",
          "text": [
            "Mounted at /content/drive\n"
          ]
        }
      ]
    },
    {
      "cell_type": "code",
      "source": [
        "df0 = pd.read_csv('/content/drive/MyDrive/DataScienceProject/soc-sign-bitcoinotc.csv.gz', compression='gzip')"
      ],
      "metadata": {
        "id": "6t8fyLykXmRH"
      },
      "execution_count": null,
      "outputs": []
    },
    {
      "cell_type": "markdown",
      "source": [
        "### Number of nodes:\n"
      ],
      "metadata": {
        "id": "H_VYSOYwCOnq"
      }
    },
    {
      "cell_type": "code",
      "source": [
        "max=0\n",
        "min = 1\n",
        "for i,rows in df0.iterrows():\n",
        "  a=int(rows[\"6\"])\n",
        "  b=int(rows[\"2\"])\n",
        "  if max< a:\n",
        "    max=a;\n",
        "  if max< b:\n",
        "    max=b;\n",
        "n=int(max)\n",
        "lst = [0] * (n+1)\n",
        "# print(len(lst))\n",
        "for i,rows in df0.iterrows():\n",
        "  a=int(rows[\"6\"])\n",
        "  b=int(rows[\"2\"])\n",
        "  lst[a]=1\n",
        "  lst[b]=1\n",
        "\n",
        "l=[]\n",
        "# Node_list=[]\n",
        "for i in range(1,n+1):\n",
        "  if(lst[i]>=1):\n",
        "    l.append(i)\n",
        "# n,len(l)\n",
        "num_nodes=len(l)\n",
        "num_nodes"
      ],
      "metadata": {
        "colab": {
          "base_uri": "https://localhost:8080/"
        },
        "id": "fUv28zVsCNhn",
        "outputId": "90541f32-2603-46c2-969a-e59bb94f127b"
      },
      "execution_count": null,
      "outputs": [
        {
          "output_type": "execute_result",
          "data": {
            "text/plain": [
              "5881"
            ]
          },
          "metadata": {},
          "execution_count": 5
        }
      ]
    },
    {
      "cell_type": "markdown",
      "source": [
        "### Number of Edges:"
      ],
      "metadata": {
        "id": "w5DX_0FIC6cZ"
      }
    },
    {
      "cell_type": "code",
      "source": [
        "len(df0)"
      ],
      "metadata": {
        "colab": {
          "base_uri": "https://localhost:8080/"
        },
        "id": "RX_FMCV3C9Ye",
        "outputId": "b587b519-9fd8-420e-d32d-fbff93de4f02"
      },
      "execution_count": null,
      "outputs": [
        {
          "output_type": "execute_result",
          "data": {
            "text/plain": [
              "35591"
            ]
          },
          "metadata": {},
          "execution_count": 6
        }
      ]
    },
    {
      "cell_type": "markdown",
      "source": [
        "### Negativity "
      ],
      "metadata": {
        "id": "4rw6iqfbD1yG"
      }
    },
    {
      "cell_type": "code",
      "source": [
        "neg=0\n",
        "for i,rows in df0.iterrows():\n",
        "  if rows[\"4\"]<0:\n",
        "    neg=neg+1\n",
        "print(\"number of negative edges=\",neg)\n",
        "print(\"% of negative edges=\",neg*100/len(df0))"
      ],
      "metadata": {
        "colab": {
          "base_uri": "https://localhost:8080/"
        },
        "id": "16NnqR50D4p5",
        "outputId": "5db29a61-c9ec-4ecb-cf16-5ee1b5aa1151"
      },
      "execution_count": null,
      "outputs": [
        {
          "output_type": "stream",
          "name": "stdout",
          "text": [
            "number of negative edges= 3563\n",
            "% of negative edges= 10.01095782641679\n"
          ]
        }
      ]
    },
    {
      "cell_type": "markdown",
      "source": [
        "### Degree Distribution"
      ],
      "metadata": {
        "id": "fhCvYm9VEw9v"
      }
    },
    {
      "cell_type": "code",
      "source": [
        "outd={}\n",
        "ind={}\n",
        "for i,rows in df0.iterrows():\n",
        "  source=int(rows[\"6\"])\n",
        "  target=int(rows[\"2\"])\n",
        "  if source not in outd.keys():\n",
        "    outd[source]=1\n",
        "  else:\n",
        "    outd[source]=outd[source]+1\n",
        "  if target not in ind.keys():\n",
        "    ind[target]=1\n",
        "  else:\n",
        "    ind[target]=ind[target]+1\n",
        "print(len(outd)  )\n",
        "print(len(ind)  )\n",
        "# print(ind)  \n",
        "# print(sorted(outd.items()))  \n",
        "# print(sorted(ind))   "
      ],
      "metadata": {
        "colab": {
          "base_uri": "https://localhost:8080/"
        },
        "id": "IvErrb9BEvBA",
        "outputId": "0c9176e0-2768-48c8-a620-f8d85a579f26"
      },
      "execution_count": null,
      "outputs": [
        {
          "output_type": "stream",
          "name": "stdout",
          "text": [
            "4814\n",
            "5858\n"
          ]
        }
      ]
    },
    {
      "cell_type": "markdown",
      "source": [
        "#### Out Degree"
      ],
      "metadata": {
        "id": "AJ6tlOH5Fh0y"
      }
    },
    {
      "cell_type": "code",
      "source": [
        "lst=[]\n",
        "for key in outd:\n",
        "  lst.append(outd[key])\n",
        "print(\"Mean of out degree is % s\"\n",
        "      %(statistics.mean(lst)))\n",
        "print(\"Variance of out degree is % s\"\n",
        "      %(statistics.variance(lst)))\n",
        "# print(lst)\n",
        "# print(\"Maximum and minumum out degree is \",max(lst))"
      ],
      "metadata": {
        "colab": {
          "base_uri": "https://localhost:8080/"
        },
        "id": "oajnZw5DHB_f",
        "outputId": "ee8a0a03-c8d4-4052-92b0-fc8c942c151a"
      },
      "execution_count": null,
      "outputs": [
        {
          "output_type": "stream",
          "name": "stdout",
          "text": [
            "Mean of out degree is 7.3932280847528045\n",
            "Variance of out degree is 533.3776478777401\n"
          ]
        }
      ]
    },
    {
      "cell_type": "code",
      "source": [
        "max=lst[0]\n",
        "mn=lst[0]\n",
        "for i in lst:\n",
        "  if max<i:\n",
        "    max=i\n",
        "  if mn>i:\n",
        "    mn=i\n",
        "print(\"Maximum and minumum out degree is \",max,\"and\",mn)"
      ],
      "metadata": {
        "colab": {
          "base_uri": "https://localhost:8080/"
        },
        "id": "u9UNcR_DKoul",
        "outputId": "352fe50c-eae3-48f7-895f-9dad1973bbf9"
      },
      "execution_count": null,
      "outputs": [
        {
          "output_type": "stream",
          "name": "stdout",
          "text": [
            "Maximum and minumum out degree is  763 and 1\n"
          ]
        }
      ]
    },
    {
      "cell_type": "markdown",
      "source": [
        "In Degree"
      ],
      "metadata": {
        "id": "IYRQTlY2Jhzp"
      }
    },
    {
      "cell_type": "code",
      "source": [
        "lst2=[]\n",
        "for key in ind:\n",
        "  lst2.append(ind[key])\n",
        "print(\"Mean of out degree is % s\"\n",
        "      %(statistics.mean(lst2)))\n",
        "print(\"Variance of out degree is % s\"\n",
        "      %(statistics.variance(lst2)))"
      ],
      "metadata": {
        "colab": {
          "base_uri": "https://localhost:8080/"
        },
        "id": "W0zWy80UJjqa",
        "outputId": "75e29258-ecb6-4138-edbb-140a9a6bfdcb"
      },
      "execution_count": null,
      "outputs": [
        {
          "output_type": "stream",
          "name": "stdout",
          "text": [
            "Mean of out degree is 6.0756230795493344\n",
            "Variance of out degree is 313.4791700487894\n"
          ]
        }
      ]
    },
    {
      "cell_type": "code",
      "source": [
        "max=lst2[0]\n",
        "mn=lst2[0]\n",
        "for i in lst2:\n",
        "  if max<i:\n",
        "    max=i\n",
        "  if mn>i:\n",
        "    mn=i\n",
        "print(\"Maximum and minumum in degree is \",max,\"and\",mn)"
      ],
      "metadata": {
        "colab": {
          "base_uri": "https://localhost:8080/"
        },
        "id": "ZwMYA2UiLKGM",
        "outputId": "5a23944a-6ef7-45fc-ff93-cce4316819a0"
      },
      "execution_count": null,
      "outputs": [
        {
          "output_type": "stream",
          "name": "stdout",
          "text": [
            "Maximum and minumum in degree is  535 and 1\n"
          ]
        }
      ]
    },
    {
      "cell_type": "markdown",
      "source": [
        "### Rating Analysis"
      ],
      "metadata": {
        "id": "o-RrKvWKLZTa"
      }
    },
    {
      "cell_type": "code",
      "source": [
        "import os\n",
        "import requests\n",
        "import pandas as pd\n",
        "\n",
        "url = 'https://snap.stanford.edu/data/soc-sign-bitcoinotc.csv.gz'\n",
        "fname = os.path.basename(url)\n",
        "\n",
        "if not os.path.isfile(fname):\n",
        "    print(f\"Downloading...\\n{url}\")\n",
        "    r = requests.get(url, allow_redirects=True)\n",
        "    open(fname, 'wb').write(r.content)\n",
        "else:\n",
        "    print(f\"Already downloaded:\\n{url}\")\n",
        "    \n",
        "# parse the file\n",
        "cols = ['source', 'target', 'rating', 'time']\n",
        "df = pd.read_csv(fname, names=cols, header=None)\n",
        "df['time'] = pd.to_datetime(df.time * 1e9)\n",
        "df = df.set_index('time')\n",
        "df.shape"
      ],
      "metadata": {
        "colab": {
          "base_uri": "https://localhost:8080/"
        },
        "id": "VPTdPxvHMUFZ",
        "outputId": "f6471a34-5128-4cec-9e11-00697cb557aa"
      },
      "execution_count": null,
      "outputs": [
        {
          "output_type": "stream",
          "name": "stdout",
          "text": [
            "Downloading...\n",
            "https://snap.stanford.edu/data/soc-sign-bitcoinotc.csv.gz\n"
          ]
        },
        {
          "output_type": "execute_result",
          "data": {
            "text/plain": [
              "(35592, 3)"
            ]
          },
          "metadata": {},
          "execution_count": 2
        }
      ]
    },
    {
      "cell_type": "code",
      "source": [
        "Rating_df=df.resample('M').rating.value_counts().unstack()\n",
        "Rating_df"
      ],
      "metadata": {
        "colab": {
          "base_uri": "https://localhost:8080/",
          "height": 1463
        },
        "id": "XFYQnXKuNL0H",
        "outputId": "e6008224-3e2b-4cbf-e35b-c13e33772632"
      },
      "execution_count": null,
      "outputs": [
        {
          "output_type": "execute_result",
          "data": {
            "text/plain": [
              "rating      -10  -9   -8   -7   -6   -5   -4   -3   -2   -1      1     2   \\\n",
              "time                                                                        \n",
              "2010-11-30  NaN  NaN  NaN  NaN  NaN  NaN  NaN  NaN  NaN  NaN   21.0  10.0   \n",
              "2010-12-31  NaN  NaN  NaN  NaN  NaN  NaN  NaN  NaN  NaN  NaN   39.0  26.0   \n",
              "2011-01-31  NaN  NaN  NaN  NaN  NaN  NaN  NaN  NaN  NaN  NaN   65.0  20.0   \n",
              "2011-02-28  NaN  NaN  NaN  NaN  NaN  NaN  NaN  NaN  NaN  NaN  158.0  49.0   \n",
              "2011-03-31  NaN  NaN  NaN  NaN  NaN  NaN  NaN  NaN  NaN  5.0  127.0  36.0   \n",
              "...         ...  ...  ...  ...  ...  ...  ...  ...  ...  ...    ...   ...   \n",
              "2015-09-30  3.0  NaN  NaN  NaN  NaN  NaN  NaN  NaN  NaN  2.0   24.0  12.0   \n",
              "2015-10-31  NaN  NaN  NaN  NaN  NaN  NaN  NaN  NaN  NaN  NaN   20.0   9.0   \n",
              "2015-11-30  1.0  NaN  NaN  NaN  NaN  NaN  NaN  NaN  NaN  NaN   11.0   9.0   \n",
              "2015-12-31  5.0  NaN  NaN  NaN  NaN  1.0  NaN  NaN  NaN  NaN   13.0   6.0   \n",
              "2016-01-31  1.0  NaN  NaN  NaN  NaN  NaN  NaN  NaN  NaN  1.0   17.0  13.0   \n",
              "\n",
              "rating        3    4    5    6    7    8    9    10  \n",
              "time                                                 \n",
              "2010-11-30   5.0  2.0  7.0  NaN  5.0  7.0  2.0  1.0  \n",
              "2010-12-31   4.0  6.0  3.0  1.0  NaN  2.0  1.0  NaN  \n",
              "2011-01-31   8.0  4.0  1.0  NaN  NaN  NaN  NaN  1.0  \n",
              "2011-02-28  20.0  5.0  5.0  2.0  1.0  2.0  1.0  2.0  \n",
              "2011-03-31  10.0  7.0  2.0  1.0  3.0  3.0  NaN  NaN  \n",
              "...          ...  ...  ...  ...  ...  ...  ...  ...  \n",
              "2015-09-30   5.0  1.0  5.0  NaN  1.0  1.0  NaN  2.0  \n",
              "2015-10-31   4.0  NaN  3.0  NaN  2.0  NaN  NaN  NaN  \n",
              "2015-11-30   9.0  NaN  1.0  NaN  NaN  NaN  NaN  NaN  \n",
              "2015-12-31   8.0  3.0  NaN  NaN  NaN  1.0  2.0  1.0  \n",
              "2016-01-31   NaN  4.0  4.0  1.0  1.0  NaN  NaN  NaN  \n",
              "\n",
              "[63 rows x 20 columns]"
            ],
            "text/html": [
              "\n",
              "  <div id=\"df-50445153-e3c9-4820-8a14-5ac1e9e81906\">\n",
              "    <div class=\"colab-df-container\">\n",
              "      <div>\n",
              "<style scoped>\n",
              "    .dataframe tbody tr th:only-of-type {\n",
              "        vertical-align: middle;\n",
              "    }\n",
              "\n",
              "    .dataframe tbody tr th {\n",
              "        vertical-align: top;\n",
              "    }\n",
              "\n",
              "    .dataframe thead th {\n",
              "        text-align: right;\n",
              "    }\n",
              "</style>\n",
              "<table border=\"1\" class=\"dataframe\">\n",
              "  <thead>\n",
              "    <tr style=\"text-align: right;\">\n",
              "      <th>rating</th>\n",
              "      <th>-10</th>\n",
              "      <th>-9</th>\n",
              "      <th>-8</th>\n",
              "      <th>-7</th>\n",
              "      <th>-6</th>\n",
              "      <th>-5</th>\n",
              "      <th>-4</th>\n",
              "      <th>-3</th>\n",
              "      <th>-2</th>\n",
              "      <th>-1</th>\n",
              "      <th>1</th>\n",
              "      <th>2</th>\n",
              "      <th>3</th>\n",
              "      <th>4</th>\n",
              "      <th>5</th>\n",
              "      <th>6</th>\n",
              "      <th>7</th>\n",
              "      <th>8</th>\n",
              "      <th>9</th>\n",
              "      <th>10</th>\n",
              "    </tr>\n",
              "    <tr>\n",
              "      <th>time</th>\n",
              "      <th></th>\n",
              "      <th></th>\n",
              "      <th></th>\n",
              "      <th></th>\n",
              "      <th></th>\n",
              "      <th></th>\n",
              "      <th></th>\n",
              "      <th></th>\n",
              "      <th></th>\n",
              "      <th></th>\n",
              "      <th></th>\n",
              "      <th></th>\n",
              "      <th></th>\n",
              "      <th></th>\n",
              "      <th></th>\n",
              "      <th></th>\n",
              "      <th></th>\n",
              "      <th></th>\n",
              "      <th></th>\n",
              "      <th></th>\n",
              "    </tr>\n",
              "  </thead>\n",
              "  <tbody>\n",
              "    <tr>\n",
              "      <th>2010-11-30</th>\n",
              "      <td>NaN</td>\n",
              "      <td>NaN</td>\n",
              "      <td>NaN</td>\n",
              "      <td>NaN</td>\n",
              "      <td>NaN</td>\n",
              "      <td>NaN</td>\n",
              "      <td>NaN</td>\n",
              "      <td>NaN</td>\n",
              "      <td>NaN</td>\n",
              "      <td>NaN</td>\n",
              "      <td>21.0</td>\n",
              "      <td>10.0</td>\n",
              "      <td>5.0</td>\n",
              "      <td>2.0</td>\n",
              "      <td>7.0</td>\n",
              "      <td>NaN</td>\n",
              "      <td>5.0</td>\n",
              "      <td>7.0</td>\n",
              "      <td>2.0</td>\n",
              "      <td>1.0</td>\n",
              "    </tr>\n",
              "    <tr>\n",
              "      <th>2010-12-31</th>\n",
              "      <td>NaN</td>\n",
              "      <td>NaN</td>\n",
              "      <td>NaN</td>\n",
              "      <td>NaN</td>\n",
              "      <td>NaN</td>\n",
              "      <td>NaN</td>\n",
              "      <td>NaN</td>\n",
              "      <td>NaN</td>\n",
              "      <td>NaN</td>\n",
              "      <td>NaN</td>\n",
              "      <td>39.0</td>\n",
              "      <td>26.0</td>\n",
              "      <td>4.0</td>\n",
              "      <td>6.0</td>\n",
              "      <td>3.0</td>\n",
              "      <td>1.0</td>\n",
              "      <td>NaN</td>\n",
              "      <td>2.0</td>\n",
              "      <td>1.0</td>\n",
              "      <td>NaN</td>\n",
              "    </tr>\n",
              "    <tr>\n",
              "      <th>2011-01-31</th>\n",
              "      <td>NaN</td>\n",
              "      <td>NaN</td>\n",
              "      <td>NaN</td>\n",
              "      <td>NaN</td>\n",
              "      <td>NaN</td>\n",
              "      <td>NaN</td>\n",
              "      <td>NaN</td>\n",
              "      <td>NaN</td>\n",
              "      <td>NaN</td>\n",
              "      <td>NaN</td>\n",
              "      <td>65.0</td>\n",
              "      <td>20.0</td>\n",
              "      <td>8.0</td>\n",
              "      <td>4.0</td>\n",
              "      <td>1.0</td>\n",
              "      <td>NaN</td>\n",
              "      <td>NaN</td>\n",
              "      <td>NaN</td>\n",
              "      <td>NaN</td>\n",
              "      <td>1.0</td>\n",
              "    </tr>\n",
              "    <tr>\n",
              "      <th>2011-02-28</th>\n",
              "      <td>NaN</td>\n",
              "      <td>NaN</td>\n",
              "      <td>NaN</td>\n",
              "      <td>NaN</td>\n",
              "      <td>NaN</td>\n",
              "      <td>NaN</td>\n",
              "      <td>NaN</td>\n",
              "      <td>NaN</td>\n",
              "      <td>NaN</td>\n",
              "      <td>NaN</td>\n",
              "      <td>158.0</td>\n",
              "      <td>49.0</td>\n",
              "      <td>20.0</td>\n",
              "      <td>5.0</td>\n",
              "      <td>5.0</td>\n",
              "      <td>2.0</td>\n",
              "      <td>1.0</td>\n",
              "      <td>2.0</td>\n",
              "      <td>1.0</td>\n",
              "      <td>2.0</td>\n",
              "    </tr>\n",
              "    <tr>\n",
              "      <th>2011-03-31</th>\n",
              "      <td>NaN</td>\n",
              "      <td>NaN</td>\n",
              "      <td>NaN</td>\n",
              "      <td>NaN</td>\n",
              "      <td>NaN</td>\n",
              "      <td>NaN</td>\n",
              "      <td>NaN</td>\n",
              "      <td>NaN</td>\n",
              "      <td>NaN</td>\n",
              "      <td>5.0</td>\n",
              "      <td>127.0</td>\n",
              "      <td>36.0</td>\n",
              "      <td>10.0</td>\n",
              "      <td>7.0</td>\n",
              "      <td>2.0</td>\n",
              "      <td>1.0</td>\n",
              "      <td>3.0</td>\n",
              "      <td>3.0</td>\n",
              "      <td>NaN</td>\n",
              "      <td>NaN</td>\n",
              "    </tr>\n",
              "    <tr>\n",
              "      <th>...</th>\n",
              "      <td>...</td>\n",
              "      <td>...</td>\n",
              "      <td>...</td>\n",
              "      <td>...</td>\n",
              "      <td>...</td>\n",
              "      <td>...</td>\n",
              "      <td>...</td>\n",
              "      <td>...</td>\n",
              "      <td>...</td>\n",
              "      <td>...</td>\n",
              "      <td>...</td>\n",
              "      <td>...</td>\n",
              "      <td>...</td>\n",
              "      <td>...</td>\n",
              "      <td>...</td>\n",
              "      <td>...</td>\n",
              "      <td>...</td>\n",
              "      <td>...</td>\n",
              "      <td>...</td>\n",
              "      <td>...</td>\n",
              "    </tr>\n",
              "    <tr>\n",
              "      <th>2015-09-30</th>\n",
              "      <td>3.0</td>\n",
              "      <td>NaN</td>\n",
              "      <td>NaN</td>\n",
              "      <td>NaN</td>\n",
              "      <td>NaN</td>\n",
              "      <td>NaN</td>\n",
              "      <td>NaN</td>\n",
              "      <td>NaN</td>\n",
              "      <td>NaN</td>\n",
              "      <td>2.0</td>\n",
              "      <td>24.0</td>\n",
              "      <td>12.0</td>\n",
              "      <td>5.0</td>\n",
              "      <td>1.0</td>\n",
              "      <td>5.0</td>\n",
              "      <td>NaN</td>\n",
              "      <td>1.0</td>\n",
              "      <td>1.0</td>\n",
              "      <td>NaN</td>\n",
              "      <td>2.0</td>\n",
              "    </tr>\n",
              "    <tr>\n",
              "      <th>2015-10-31</th>\n",
              "      <td>NaN</td>\n",
              "      <td>NaN</td>\n",
              "      <td>NaN</td>\n",
              "      <td>NaN</td>\n",
              "      <td>NaN</td>\n",
              "      <td>NaN</td>\n",
              "      <td>NaN</td>\n",
              "      <td>NaN</td>\n",
              "      <td>NaN</td>\n",
              "      <td>NaN</td>\n",
              "      <td>20.0</td>\n",
              "      <td>9.0</td>\n",
              "      <td>4.0</td>\n",
              "      <td>NaN</td>\n",
              "      <td>3.0</td>\n",
              "      <td>NaN</td>\n",
              "      <td>2.0</td>\n",
              "      <td>NaN</td>\n",
              "      <td>NaN</td>\n",
              "      <td>NaN</td>\n",
              "    </tr>\n",
              "    <tr>\n",
              "      <th>2015-11-30</th>\n",
              "      <td>1.0</td>\n",
              "      <td>NaN</td>\n",
              "      <td>NaN</td>\n",
              "      <td>NaN</td>\n",
              "      <td>NaN</td>\n",
              "      <td>NaN</td>\n",
              "      <td>NaN</td>\n",
              "      <td>NaN</td>\n",
              "      <td>NaN</td>\n",
              "      <td>NaN</td>\n",
              "      <td>11.0</td>\n",
              "      <td>9.0</td>\n",
              "      <td>9.0</td>\n",
              "      <td>NaN</td>\n",
              "      <td>1.0</td>\n",
              "      <td>NaN</td>\n",
              "      <td>NaN</td>\n",
              "      <td>NaN</td>\n",
              "      <td>NaN</td>\n",
              "      <td>NaN</td>\n",
              "    </tr>\n",
              "    <tr>\n",
              "      <th>2015-12-31</th>\n",
              "      <td>5.0</td>\n",
              "      <td>NaN</td>\n",
              "      <td>NaN</td>\n",
              "      <td>NaN</td>\n",
              "      <td>NaN</td>\n",
              "      <td>1.0</td>\n",
              "      <td>NaN</td>\n",
              "      <td>NaN</td>\n",
              "      <td>NaN</td>\n",
              "      <td>NaN</td>\n",
              "      <td>13.0</td>\n",
              "      <td>6.0</td>\n",
              "      <td>8.0</td>\n",
              "      <td>3.0</td>\n",
              "      <td>NaN</td>\n",
              "      <td>NaN</td>\n",
              "      <td>NaN</td>\n",
              "      <td>1.0</td>\n",
              "      <td>2.0</td>\n",
              "      <td>1.0</td>\n",
              "    </tr>\n",
              "    <tr>\n",
              "      <th>2016-01-31</th>\n",
              "      <td>1.0</td>\n",
              "      <td>NaN</td>\n",
              "      <td>NaN</td>\n",
              "      <td>NaN</td>\n",
              "      <td>NaN</td>\n",
              "      <td>NaN</td>\n",
              "      <td>NaN</td>\n",
              "      <td>NaN</td>\n",
              "      <td>NaN</td>\n",
              "      <td>1.0</td>\n",
              "      <td>17.0</td>\n",
              "      <td>13.0</td>\n",
              "      <td>NaN</td>\n",
              "      <td>4.0</td>\n",
              "      <td>4.0</td>\n",
              "      <td>1.0</td>\n",
              "      <td>1.0</td>\n",
              "      <td>NaN</td>\n",
              "      <td>NaN</td>\n",
              "      <td>NaN</td>\n",
              "    </tr>\n",
              "  </tbody>\n",
              "</table>\n",
              "<p>63 rows × 20 columns</p>\n",
              "</div>\n",
              "      <button class=\"colab-df-convert\" onclick=\"convertToInteractive('df-50445153-e3c9-4820-8a14-5ac1e9e81906')\"\n",
              "              title=\"Convert this dataframe to an interactive table.\"\n",
              "              style=\"display:none;\">\n",
              "        \n",
              "  <svg xmlns=\"http://www.w3.org/2000/svg\" height=\"24px\"viewBox=\"0 0 24 24\"\n",
              "       width=\"24px\">\n",
              "    <path d=\"M0 0h24v24H0V0z\" fill=\"none\"/>\n",
              "    <path d=\"M18.56 5.44l.94 2.06.94-2.06 2.06-.94-2.06-.94-.94-2.06-.94 2.06-2.06.94zm-11 1L8.5 8.5l.94-2.06 2.06-.94-2.06-.94L8.5 2.5l-.94 2.06-2.06.94zm10 10l.94 2.06.94-2.06 2.06-.94-2.06-.94-.94-2.06-.94 2.06-2.06.94z\"/><path d=\"M17.41 7.96l-1.37-1.37c-.4-.4-.92-.59-1.43-.59-.52 0-1.04.2-1.43.59L10.3 9.45l-7.72 7.72c-.78.78-.78 2.05 0 2.83L4 21.41c.39.39.9.59 1.41.59.51 0 1.02-.2 1.41-.59l7.78-7.78 2.81-2.81c.8-.78.8-2.07 0-2.86zM5.41 20L4 18.59l7.72-7.72 1.47 1.35L5.41 20z\"/>\n",
              "  </svg>\n",
              "      </button>\n",
              "      \n",
              "  <style>\n",
              "    .colab-df-container {\n",
              "      display:flex;\n",
              "      flex-wrap:wrap;\n",
              "      gap: 12px;\n",
              "    }\n",
              "\n",
              "    .colab-df-convert {\n",
              "      background-color: #E8F0FE;\n",
              "      border: none;\n",
              "      border-radius: 50%;\n",
              "      cursor: pointer;\n",
              "      display: none;\n",
              "      fill: #1967D2;\n",
              "      height: 32px;\n",
              "      padding: 0 0 0 0;\n",
              "      width: 32px;\n",
              "    }\n",
              "\n",
              "    .colab-df-convert:hover {\n",
              "      background-color: #E2EBFA;\n",
              "      box-shadow: 0px 1px 2px rgba(60, 64, 67, 0.3), 0px 1px 3px 1px rgba(60, 64, 67, 0.15);\n",
              "      fill: #174EA6;\n",
              "    }\n",
              "\n",
              "    [theme=dark] .colab-df-convert {\n",
              "      background-color: #3B4455;\n",
              "      fill: #D2E3FC;\n",
              "    }\n",
              "\n",
              "    [theme=dark] .colab-df-convert:hover {\n",
              "      background-color: #434B5C;\n",
              "      box-shadow: 0px 1px 3px 1px rgba(0, 0, 0, 0.15);\n",
              "      filter: drop-shadow(0px 1px 2px rgba(0, 0, 0, 0.3));\n",
              "      fill: #FFFFFF;\n",
              "    }\n",
              "  </style>\n",
              "\n",
              "      <script>\n",
              "        const buttonEl =\n",
              "          document.querySelector('#df-50445153-e3c9-4820-8a14-5ac1e9e81906 button.colab-df-convert');\n",
              "        buttonEl.style.display =\n",
              "          google.colab.kernel.accessAllowed ? 'block' : 'none';\n",
              "\n",
              "        async function convertToInteractive(key) {\n",
              "          const element = document.querySelector('#df-50445153-e3c9-4820-8a14-5ac1e9e81906');\n",
              "          const dataTable =\n",
              "            await google.colab.kernel.invokeFunction('convertToInteractive',\n",
              "                                                     [key], {});\n",
              "          if (!dataTable) return;\n",
              "\n",
              "          const docLinkHtml = 'Like what you see? Visit the ' +\n",
              "            '<a target=\"_blank\" href=https://colab.research.google.com/notebooks/data_table.ipynb>data table notebook</a>'\n",
              "            + ' to learn more about interactive tables.';\n",
              "          element.innerHTML = '';\n",
              "          dataTable['output_type'] = 'display_data';\n",
              "          await google.colab.output.renderOutput(dataTable, element);\n",
              "          const docLink = document.createElement('div');\n",
              "          docLink.innerHTML = docLinkHtml;\n",
              "          element.appendChild(docLink);\n",
              "        }\n",
              "      </script>\n",
              "    </div>\n",
              "  </div>\n",
              "  "
            ]
          },
          "metadata": {},
          "execution_count": 3
        }
      ]
    },
    {
      "cell_type": "code",
      "source": [
        "avg_dict={}\n",
        "total_dict={}\n",
        "for i,rows in Rating_df.iterrows():\n",
        "  total=0\n",
        "  avg=0\n",
        "  by=0\n",
        "  for j in range (-10,11):\n",
        "    if j!=0 :\n",
        "      if (math.isnan(rows[j]) ==0):\n",
        "        total=total+rows[j]\n",
        "        avg=avg+j*rows[j]\n",
        "  avg_dict[i]=avg/total\n",
        "  total_dict[i]=total\n",
        "# len(avg_dict)"
      ],
      "metadata": {
        "colab": {
          "base_uri": "https://localhost:8080/"
        },
        "id": "xCbtfDz1NmQE",
        "outputId": "3744cbc6-d67e-4a47-b188-d7d37a462b71"
      },
      "execution_count": null,
      "outputs": [
        {
          "output_type": "execute_result",
          "data": {
            "text/plain": [
              "63"
            ]
          },
          "metadata": {},
          "execution_count": 79
        }
      ]
    },
    {
      "cell_type": "code",
      "source": [
        "import matplotlib.pylab as plt\n",
        "\n",
        "lists = sorted(avg_dict.items()) # sorted by key, return a list of tuples\n",
        "\n",
        "x, y = zip(*lists) # unpack a list of pairs into two tuples\n",
        "\n",
        "plt.plot(x, y)\n",
        "plt.xlabel(\"Time\")\n",
        "plt.ylabel(\"Avg Rating\")\n",
        "plt.title(\"Average rating Distribution as per time\")\n",
        "plt.show()"
      ],
      "metadata": {
        "colab": {
          "base_uri": "https://localhost:8080/",
          "height": 295
        },
        "id": "Vm3SiTc7Rkza",
        "outputId": "b0550856-5a34-450f-d6ef-ea48660c391a"
      },
      "execution_count": null,
      "outputs": [
        {
          "output_type": "display_data",
          "data": {
            "text/plain": [
              "<Figure size 432x288 with 1 Axes>"
            ],
            "image/png": "[encoded data removed]"
          },
          "metadata": {
            "needs_background": "light"
          }
        }
      ]
    },
    {
      "cell_type": "code",
      "source": [
        "lists = sorted(total_dict.items()) # sorted by key, return a list of tuples\n",
        "\n",
        "x, y = zip(*lists) # unpack a list of pairs into two tuples\n",
        "\n",
        "plt.plot(x, y)\n",
        "plt.xlabel(\"Time\")\n",
        "plt.ylabel(\"Total Rating\")\n",
        "plt.title(\"Total rating Distribution as per time\")\n",
        "plt.show()"
      ],
      "metadata": {
        "colab": {
          "base_uri": "https://localhost:8080/",
          "height": 295
        },
        "id": "RtuxdJu8R-wU",
        "outputId": "8577444f-6a82-4b4a-e772-a37687735f75"
      },
      "execution_count": null,
      "outputs": [
        {
          "output_type": "display_data",
          "data": {
            "text/plain": [
              "<Figure size 432x288 with 1 Axes>"
            ],
            "image/png": "[encoded data removed]"
          },
          "metadata": {
            "needs_background": "light"
          }
        }
      ]
    },
    {
      "cell_type": "markdown",
      "source": [
        "### Reciprocity"
      ],
      "metadata": {
        "id": "0Yat2nzQUY8h"
      }
    },
    {
      "cell_type": "code",
      "source": [
        "ros=6005\n",
        "cols=6005\n",
        "mat = [[0 for _ in range(cols)] for _ in range(ros)]\n",
        "for i,rows in df0.iterrows():\n",
        "  a=int(rows[\"6\"])-1\n",
        "  b=int(rows[\"2\"])-1\n",
        "  # print(rows[\"4\"])\n",
        "  mat[a][b]=1\n",
        "# print(mat)\n",
        "rec=0\n",
        "for i in range(ros):\n",
        "  for j in range(cols):\n",
        "    if(mat[i][j]==1 and mat[j][i]==1):\n",
        "      rec=rec+1\n",
        "print(\"The reciprocacy ratio of our network is \",rec/len(df))"
      ],
      "metadata": {
        "colab": {
          "base_uri": "https://localhost:8080/"
        },
        "id": "UAIPz5onWH87",
        "outputId": "efebf25d-e565-4179-f585-f6a96f7af55e"
      },
      "execution_count": null,
      "outputs": [
        {
          "output_type": "stream",
          "name": "stdout",
          "text": [
            "The reciprocacy ratio of our network is  0.7922566868959316\n"
          ]
        }
      ]
    },
    {
      "cell_type": "code",
      "source": [
        ""
      ],
      "metadata": {
        "id": "TcEGrNW5ZPB2"
      },
      "execution_count": null,
      "outputs": []
    },
    {
      "cell_type": "code",
      "source": [
        ""
      ],
      "metadata": {
        "id": "i3X7utYxoAQ2"
      },
      "execution_count": null,
      "outputs": []
    }
  ]
}